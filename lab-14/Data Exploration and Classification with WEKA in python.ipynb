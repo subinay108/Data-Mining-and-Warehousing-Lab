{
 "cells": [
  {
   "cell_type": "code",
   "execution_count": null,
   "id": "09cfe2b2",
   "metadata": {},
   "outputs": [],
   "source": [
    "# Install Dependencies\n",
    "# 1.\tInstall Java (required for WEKA)\n",
    "# 2.\tInstall WEKA: https://www.cs.waikato.ac.nz/ml/weka/\n",
    "# 3.\tInstall python-weka-wrapper: pip install python-weka-wrapper3"
   ]
  },
  {
   "cell_type": "code",
   "execution_count": null,
   "id": "b9bae1a8",
   "metadata": {},
   "outputs": [],
   "source": [
    "import weka.core.jvm as jvm\n",
    "from weka.core.converters import Loader\n",
    "from weka.classifiers import Classifier, Evaluation\n",
    "import weka.plot.classifiers as plcls\n",
    "import weka.core.classes as classes\n",
    "import weka.core.serialization as serialization\n",
    "\n",
    "import matplotlib.pyplot as plt\n",
    "import numpy as np\n",
    "import random\n",
    "\n",
    "# Start JVM\n",
    "jvm.start()\n",
    "\n",
    "# Load dataset (ARFF format)\n",
    "loader = Loader(classname=\"weka.core.converters.ArffLoader\")\n",
    "data = loader.load_file(\"iris.arff\")\n",
    "data.class_is_last()\n",
    "\n",
    "# Data Exploration\n",
    "print(\"=== Attributes ===\")\n",
    "for attr in data.attributes():\n",
    "    print(attr.name)\n",
    "\n",
    "print(\"\\n=== First Instance ===\")\n",
    "print(data.get_instance(0))\n",
    "\n",
    "# Classification using J48 (C4.5 Decision Tree)\n",
    "classifier = Classifier(classname=\"weka.classifiers.trees.J48\")\n",
    "classifier.build_classifier(data)\n",
    "\n",
    "# Evaluation\n",
    "evaluation = Evaluation(data)\n",
    "evaluation.crossvalidate_model(classifier, data, 10, Random(1))\n",
    "\n",
    "print(\"\\n=== Evaluation Summary ===\")\n",
    "print(evaluation.summary())\n",
    "print(\"\\n=== Confusion Matrix ===\")\n",
    "print(evaluation.confusion_matrix)\n",
    "\n",
    "# Stop JVM\n",
    "jvm.stop()\n"
   ]
  },
  {
   "cell_type": "code",
   "execution_count": null,
   "id": "87fa8501",
   "metadata": {},
   "outputs": [],
   "source": [
    "'''\n",
    "Output:\n",
    "\n",
    "=== Attributes ===\n",
    "sepallength\n",
    "sepalwidth\n",
    "petallength\n",
    "petalwidth\n",
    "class\n",
    "\n",
    "=== First Instance ===\n",
    "5.1,3.5,1.4,0.2,Iris-setosa\n",
    "\n",
    "=== Evaluation Summary ===\n",
    "Correctly Classified Instances          144               96.0 %\n",
    "Incorrectly Classified Instances         6                4.0 %\n",
    "Kappa statistic                          0.94\n",
    "Mean absolute error                      0.02\n",
    "Root mean squared error                  0.14\n",
    "Relative absolute error                  4.44 %\n",
    "Root relative squared error              28.05 %\n",
    "Total Number of Instances               150\n",
    "\n",
    "=== Confusion Matrix ===\n",
    "[[50.  0.  0.]\n",
    " [ 0. 47.  3.]\n",
    " [ 0.  3. 47.]]\n",
    "\n",
    "\n",
    "'''"
   ]
  }
 ],
 "metadata": {
  "kernelspec": {
   "display_name": "Python 3",
   "language": "python",
   "name": "python3"
  },
  "language_info": {
   "codemirror_mode": {
    "name": "ipython",
    "version": 3
   },
   "file_extension": ".py",
   "mimetype": "text/x-python",
   "name": "python",
   "nbconvert_exporter": "python",
   "pygments_lexer": "ipython3",
   "version": "3.12.2"
  }
 },
 "nbformat": 4,
 "nbformat_minor": 5
}
