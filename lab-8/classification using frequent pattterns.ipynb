{
 "cells": [
  {
   "cell_type": "code",
   "execution_count": 11,
   "metadata": {},
   "outputs": [],
   "source": [
    "import pandas as pd\n",
    "from mlxtend.frequent_patterns import apriori, association_rules\n",
    "from sklearn.model_selection import train_test_split\n",
    "from sklearn.metrics import accuracy_score"
   ]
  },
  {
   "cell_type": "code",
   "execution_count": 12,
   "metadata": {},
   "outputs": [
    {
     "name": "stdout",
     "output_type": "stream",
     "text": [
      "   age  income  product_1  product_2  product_3  purchased\n",
      "0   25   30000          1          1          0          1\n",
      "1   30   35000          1          0          1          0\n",
      "2   35   40000          0          1          1          1\n",
      "3   40   45000          1          0          1          1\n",
      "4   45   50000          0          1          1          0\n",
      "5   50   55000          1          0          0          1\n",
      "6   55   60000          1          1          1          1\n",
      "7   60  650000          1          1          1          0\n",
      "8   65   70000          0          1          0          1\n"
     ]
    }
   ],
   "source": [
    "data = pd.DataFrame({\n",
    "    'age': [25, 30, 35, 40, 45, 50, 55, 60, 65],\n",
    "    'income': [30000, 35000, 40000, 45000, 50000, 55000, 60000, 650000, 70000],\n",
    "    'product_1': [1, 1, 0, 1, 0, 1, 1, 1, 0],\n",
    "    'product_2': [1, 0, 1, 0, 1, 0, 1, 1, 1],\n",
    "    'product_3': [0, 1, 1, 1, 1, 0, 1, 1, 0],\n",
    "    'purchased': [1, 0, 1, 1, 0, 1, 1, 0, 1]\n",
    "})\n",
    "\n",
    "print(data)"
   ]
  },
  {
   "cell_type": "code",
   "execution_count": 13,
   "metadata": {},
   "outputs": [],
   "source": [
    "# Select columns related to product purchases for frequent pattern mining\n",
    "product_data = data[['product_1', 'product_2', 'product_3']]"
   ]
  },
  {
   "cell_type": "code",
   "execution_count": 14,
   "metadata": {},
   "outputs": [
    {
     "name": "stdout",
     "output_type": "stream",
     "text": [
      "Frequent Itemsets:\n",
      "    support                itemsets\n",
      "0  0.666667             (product_1)\n",
      "1  0.666667             (product_2)\n",
      "2  0.666667             (product_3)\n",
      "3  0.444444  (product_1, product_3)\n",
      "4  0.444444  (product_2, product_3)\n"
     ]
    },
    {
     "name": "stderr",
     "output_type": "stream",
     "text": [
      "d:\\Subinay Data Mining Lab\\.venv\\Lib\\site-packages\\mlxtend\\frequent_patterns\\fpcommon.py:161: DeprecationWarning: DataFrames with non-bool types result in worse computationalperformance and their support might be discontinued in the future.Please use a DataFrame with bool type\n",
      "  warnings.warn(\n"
     ]
    }
   ],
   "source": [
    "# Apply Apriori algorithms to \n",
    "frequent_itemsets = apriori(product_data, min_support=0.4, use_colnames=True)\n",
    "\n",
    "# Display frequent itemsets\n",
    "print('Frequent Itemsets:')\n",
    "print(frequent_itemsets)"
   ]
  },
  {
   "cell_type": "code",
   "execution_count": 15,
   "metadata": {},
   "outputs": [
    {
     "name": "stdout",
     "output_type": "stream",
     "text": [
      "Association Rules:\n",
      "   antecedents  consequents  antecedent support  ...  jaccard  certainty  kulczynski\n",
      "0  (product_1)  (product_3)            0.666667  ...      0.5        0.0    0.666667\n",
      "1  (product_3)  (product_1)            0.666667  ...      0.5        0.0    0.666667\n",
      "2  (product_2)  (product_3)            0.666667  ...      0.5        0.0    0.666667\n",
      "3  (product_3)  (product_2)            0.666667  ...      0.5        0.0    0.666667\n",
      "\n",
      "[4 rows x 14 columns]\n"
     ]
    }
   ],
   "source": [
    "rules = association_rules(frequent_itemsets, metric='lift', min_threshold=1.0)\n",
    "\n",
    "# Display the rules\n",
    "print('Association Rules:')\n",
    "print(rules)"
   ]
  },
  {
   "cell_type": "code",
   "execution_count": 16,
   "metadata": {},
   "outputs": [
    {
     "name": "stdout",
     "output_type": "stream",
     "text": [
      "Classification Accuracy: 0.3333333333333333\n"
     ]
    }
   ],
   "source": [
    "def classify_transaction(transaction, rules):\n",
    "    for _, rule in rules.iterrows():\n",
    "        antecedents = set(rule['antecedents'])\n",
    "        consequents = set(rule['consequents'])\n",
    "\n",
    "        # Check if the antecedents (items bought) are in the transaction\n",
    "        if antecedents.issubset(transaction) and consequents.issubset(transaction):\n",
    "            return 1 # Predict purchased(1)\n",
    "    return 0\n",
    "\n",
    "# Apply classification on each customer (row) based on products bought\n",
    "predictions = []\n",
    "for _, row in data.iterrows():\n",
    "    transaction = set(row[['product_1', 'product_2', 'product_3']].values)\n",
    "    prediction = classify_transaction(transaction, rules)\n",
    "    predictions.append(prediction)\n",
    "\n",
    "# Evaluate accuracy\n",
    "accuracy = accuracy_score(data['purchased'], predictions)\n",
    "print(\"Classification Accuracy:\", accuracy)\n"
   ]
  }
 ],
 "metadata": {
  "kernelspec": {
   "display_name": ".venv",
   "language": "python",
   "name": "python3"
  },
  "language_info": {
   "codemirror_mode": {
    "name": "ipython",
    "version": 3
   },
   "file_extension": ".py",
   "mimetype": "text/x-python",
   "name": "python",
   "nbconvert_exporter": "python",
   "pygments_lexer": "ipython3",
   "version": "3.12.1"
  }
 },
 "nbformat": 4,
 "nbformat_minor": 2
}
